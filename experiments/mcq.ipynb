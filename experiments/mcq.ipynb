{
 "cells": [
  {
   "cell_type": "code",
   "execution_count": 203,
   "metadata": {},
   "outputs": [],
   "source": [
    "import os\n",
    "import json\n",
    "import pandas as pd\n",
    "import traceback"
   ]
  },
  {
   "cell_type": "code",
   "execution_count": 204,
   "metadata": {},
   "outputs": [],
   "source": [
    "from langchain.chat_models import ChatOpenAI"
   ]
  },
  {
   "cell_type": "code",
   "execution_count": 205,
   "metadata": {},
   "outputs": [
    {
     "data": {
      "text/plain": [
       "True"
      ]
     },
     "execution_count": 205,
     "metadata": {},
     "output_type": "execute_result"
    }
   ],
   "source": [
    "from dotenv import load_dotenv\n",
    "\n",
    "load_dotenv()"
   ]
  },
  {
   "cell_type": "code",
   "execution_count": 206,
   "metadata": {},
   "outputs": [],
   "source": [
    "KEY=os.getenv(\"OPENAI_API\")"
   ]
  },
  {
   "cell_type": "code",
   "execution_count": 207,
   "metadata": {},
   "outputs": [
    {
     "data": {
      "text/plain": [
       "'sk-proj-AvRlOUoiJUCrTbwFezUoT3BlbkFJoKB3d2stsvL9HS9U2Tof'"
      ]
     },
     "execution_count": 207,
     "metadata": {},
     "output_type": "execute_result"
    }
   ],
   "source": [
    "KEY"
   ]
  },
  {
   "cell_type": "code",
   "execution_count": 208,
   "metadata": {},
   "outputs": [],
   "source": [
    "llm = ChatOpenAI(openai_api_key=KEY,model_name=\"gpt-3.5-turbo\", temperature=0.5)"
   ]
  },
  {
   "cell_type": "code",
   "execution_count": 209,
   "metadata": {},
   "outputs": [
    {
     "data": {
      "text/plain": [
       "ChatOpenAI(client=<openai.resources.chat.completions.Completions object at 0x000001CD3F06D7E0>, async_client=<openai.resources.chat.completions.AsyncCompletions object at 0x000001CD3F06F5B0>, temperature=0.5, openai_api_key='sk-proj-AvRlOUoiJUCrTbwFezUoT3BlbkFJoKB3d2stsvL9HS9U2Tof', openai_proxy='')"
      ]
     },
     "execution_count": 209,
     "metadata": {},
     "output_type": "execute_result"
    }
   ],
   "source": [
    "llm"
   ]
  },
  {
   "cell_type": "code",
   "execution_count": 210,
   "metadata": {},
   "outputs": [],
   "source": [
    "from langchain.llms import OpenAI\n",
    "from langchain.prompts import PromptTemplate\n",
    "from langchain.chains import LLMChain\n",
    "from langchain.chains import SequentialChain\n",
    "from langchain.callbacks import get_openai_callback\n",
    "import PyPDF2"
   ]
  },
  {
   "cell_type": "code",
   "execution_count": 211,
   "metadata": {},
   "outputs": [],
   "source": [
    "RESPONSE_JSON = {\n",
    "    \"1\": {\n",
    "        \"mcq\": \"multiple choice question\",\n",
    "        \"options\": {\n",
    "            \"a\": \"choice here\",\n",
    "            \"b\": \"choice here\",\n",
    "            \"c\": \"choice here\",\n",
    "            \"d\": \"choice here\",\n",
    "        },\n",
    "        \"correct\": \"correct answer\",\n",
    "    },\n",
    "    \"2\": {\n",
    "        \"mcq\": \"multiple choice question\",\n",
    "        \"options\": {\n",
    "            \"a\": \"choice here\",\n",
    "            \"b\": \"choice here\",\n",
    "            \"c\": \"choice here\",\n",
    "            \"d\": \"choice here\",\n",
    "        },\n",
    "        \"correct\": \"correct answer\",\n",
    "    },\n",
    "    \"3\": {\n",
    "        \"mcq\": \"multiple choice question\",\n",
    "        \"options\": {\n",
    "            \"a\": \"choice here\",\n",
    "            \"b\": \"choice here\",\n",
    "            \"c\": \"choice here\",\n",
    "            \"d\": \"choice here\",\n",
    "        },\n",
    "        \"correct\": \"correct answer\",\n",
    "    },\n",
    "}"
   ]
  },
  {
   "cell_type": "code",
   "execution_count": 212,
   "metadata": {},
   "outputs": [],
   "source": [
    "TEMPLATE=\"\"\"\n",
    "Text:{text}\n",
    "You are an expert MCQ maker. Given the above text, it is your job to \\\n",
    "create a quiz  of {number} multiple choice questions for {subject} students in {tone} tone. \n",
    "Make sure the questions are not repeated and check all the questions to be conforming the text as well.\n",
    "Make sure to format your response like  RESPONSE_JSON below  and use it as a guide. \\\n",
    "Ensure to make {number} MCQs\n",
    "### RESPONSE_JSON\n",
    "{response_json}\n",
    "\n",
    "\"\"\""
   ]
  },
  {
   "cell_type": "code",
   "execution_count": 213,
   "metadata": {},
   "outputs": [],
   "source": [
    "quiz_generation_prompt = PromptTemplate(\n",
    "    input_variables=[\"text\", \"number\", \"subject\", \"tone\", \"response_json\"],\n",
    "    template=TEMPLATE\n",
    "    )"
   ]
  },
  {
   "cell_type": "code",
   "execution_count": 214,
   "metadata": {},
   "outputs": [],
   "source": [
    "quiz_chain=LLMChain(llm=llm, prompt=quiz_generation_prompt, output_key=\"quiz\", verbose=True)"
   ]
  },
  {
   "cell_type": "code",
   "execution_count": 215,
   "metadata": {},
   "outputs": [],
   "source": [
    "TEMPLATE2=\"\"\"\n",
    "You are an expert english grammarian and writer and an academic expert. Given a Multiple Choice Quiz for {subject} students.\\\n",
    "You need to evaluate the complexity of the question and give a complete analysis of the quiz. Only use at max 50 words for complexity analysis. \n",
    "If the quiz is not at par with the cognitive and analytical abilities of the students,\\\n",
    "Update the quiz questions which need to be changed and change the tone such that it perfectly fits the student abilities\n",
    "Quiz_MCQs:\n",
    "{quiz}\n",
    "\n",
    "Check from the point of view of an expert English Writer of the above quiz:\n",
    "\"\"\""
   ]
  },
  {
   "cell_type": "code",
   "execution_count": 216,
   "metadata": {},
   "outputs": [],
   "source": [
    "quiz_evaluation_prompt=PromptTemplate(input_variables=[\"subject\", \"quiz\"], template=TEMPLATE2)"
   ]
  },
  {
   "cell_type": "code",
   "execution_count": 217,
   "metadata": {},
   "outputs": [],
   "source": [
    "review_chain=LLMChain(llm=llm, prompt=quiz_evaluation_prompt, output_key=\"review\", verbose=True)"
   ]
  },
  {
   "cell_type": "code",
   "execution_count": 218,
   "metadata": {},
   "outputs": [],
   "source": [
    "generate_evaluate_chain=SequentialChain(chains=[quiz_chain, review_chain], input_variables=[\"text\", \"number\", \"subject\", \"tone\", \"response_json\"],output_variables=[\"quiz\", \"review\"], verbose=True)"
   ]
  },
  {
   "cell_type": "code",
   "execution_count": 221,
   "metadata": {},
   "outputs": [],
   "source": [
    "file_path=r\"C:\\Users\\Mayank Chandak\\MCQgenerator\\data.txt\""
   ]
  },
  {
   "cell_type": "code",
   "execution_count": 222,
   "metadata": {},
   "outputs": [
    {
     "data": {
      "text/plain": [
       "'C:\\\\Users\\\\Mayank Chandak\\\\MCQgenerator\\\\data.txt'"
      ]
     },
     "execution_count": 222,
     "metadata": {},
     "output_type": "execute_result"
    }
   ],
   "source": [
    "file_path"
   ]
  },
  {
   "cell_type": "code",
   "execution_count": 223,
   "metadata": {},
   "outputs": [],
   "source": [
    "with open(file_path, 'r') as file:\n",
    "    TEXT = file.read()"
   ]
  },
  {
   "cell_type": "code",
   "execution_count": 225,
   "metadata": {},
   "outputs": [
    {
     "name": "stdout",
     "output_type": "stream",
     "text": [
      "Artificial Intelligence is the intelligence possessed by the machines under which they can perform various functions with human help. With the help of A.I, machines will be able to learn, solve problems, plan things, think, etc. Artificial Intelligence, for example, is the simulation of human intelligence by machines. In the field of technology, Artificial Intelligence is evolving rapidly day by day and it is believed that in the near future, artificial intelligence is going to change human life very drastically and will most probably end all the crises of the world by sorting out the major problems. \n",
      "\n",
      "\n",
      "Our life in this modern age depends largely on computers. It is almost impossible to think about life without computers. We need computers in everything that we use in our daily lives. So it becomes very important to make computers intelligent so that our lives become easy. Artificial Intelligence is the theory and development of computers, which imitates the human intelligence and senses, such as visual perception, speech recognition, decision-making, and translation between languages. Artificial Intelligence has brought a revolution in the world of technology. \n",
      "\n",
      "\n",
      "Artificial Intelligence Applications\n",
      "AI is widely used in the field of healthcare. Companies are attempting to develop technologies that will allow for rapid diagnosis. Artificial Intelligence would be able to operate on patients without the need for human oversight. Surgical procedures based on technology are already being performed.\n",
      "\n",
      "\n",
      "Artificial Intelligence would save a lot of our time. The use of robots would decrease human labour. For example, in industries robots are used which have saved a lot of human effort and time. \n",
      "\n",
      "\n",
      "In the field of education, AI has the potential to be very effective. It can bring innovative ways of teaching students with the help of which students will be able to learn the concepts better. \n",
      "\n",
      "\n",
      "Artificial intelligence is the future of innovative technology as we can use it in many fields. For example, it can be used in the Military sector, Industrial sector, Automobiles, etc. In the coming years, we will be able to see more applications of AI as this technology is evolving day by day. \n",
      "\n",
      "Marketing: Artificial Intelligence provides a deep knowledge of consumers and potential clients to the marketers by enabling them to deliver information at the right time. Through AI solutions, the marketers can refine their campaigns and strategies.\n",
      "\n",
      "Agriculture: AI technology can be used to detect diseases in plants, pests, and poor plant nutrition. With the help of AI, farmers can analyze the weather conditions, temperature, water usage, and condition of the soil.\n",
      "\n",
      "Banking: Fraudulent activities can be detected through AI solutions. AI bots, digital payment advisers can create a high quality of service.\n",
      "\n",
      "Health Care: Artificial Intelligence can surpass human cognition in the analysis, diagnosis, and complication of complicated medical data.\n",
      "\n",
      "\n",
      "History of Artificial Intelligence\n",
      "Artificial Intelligence may seem to be a new technology but if we do a bit of research, we will find that it has roots deep in the past. In Greek Mythology, it is said that the concepts of AI were used. \n",
      "\n",
      "\n",
      "The model of Artificial neurons was first brought forward in 1943 by Warren McCulloch and Walter Pits. After seven years, in 1950, a research paper related to AI was published by Alan Turing which was titled 'Computer Machinery and Intelligence. The term Artificial Intelligence was first coined in 1956 by John McCarthy, who is known as the father of Artificial Intelligence. \n",
      "\n",
      "\n",
      "To conclude, we can say that Artificial Intelligence will be the future of the world. As per the experts, we won't be able to separate ourselves from this technology as it would become an integral part of our lives shortly. AI would change the way we live in this world. This technology would prove to be revolutionary because it will change our lives for good. \n",
      "\n",
      "\n",
      "Branches of Artificial Intelligence:\n",
      "Knowledge Engineering\n",
      "\n",
      "Robotics\n",
      "\n",
      "Machines Learning\n",
      "\n",
      "Natural Language Processing\n",
      "\n",
      "\n",
      "Types of Artificial Intelligence\n",
      "Artificial Intelligence is categorized in two types based on capabilities and functionalities. \n",
      "\n",
      "Artificial Intelligence Type-1\n",
      "\n",
      "Artificial Intelligence Type-2\n",
      "\n",
      "\n",
      "Artificial Intelligence Type-1\n",
      "Narrow AI (weak AI): This is designed to perform a specific task with intelligence. It is termed as weak AI because it cannot perform beyond its limitations. It is trained to do a specific task. Some examples of Narrow AI are facial recognition (Siri in Apple phones), speech, and image recognition. IBM’s Watson supercomputer, self-driving cars, playing chess, and solving equations are also some of the examples of weak AI.\n",
      "\n",
      "General AI (AGI or strong AI): This system can perform nearly every cognitive task as efficiently as humans can do. The main characteristic of general AI is to make a system that can think like a human on its own. This is a long-term goal of many researchers to create such machines.\n",
      "\n",
      "Super AI: Super AI is a type of intelligence of systems in which machines can surpass human intelligence and can perform any cognitive task better than humans. The main features of strong AI would be the ability to think, reason, solve puzzles, make judgments, plan and communicate on its own. The creation of strong AI might be the biggest revolution in human history.\n",
      "\n",
      "\n",
      "Artificial Intelligence Type-2\n",
      "Reactive Machines: These machines are the basic types of AI. Such AI systems focus only on current situations and react as per the best possible action. They do not store memories for future actions. IBM’s deep blue system and Google’s Alpha go are the examples of reactive machines.\n",
      "\n",
      "Limited Memory: These machines can store data or past memories for a short period of time. Examples are self-driving cars. They can store information to navigate the road, speed, and distance of nearby cars.\n",
      "\n",
      "Theory of Mind: These systems understand emotions, beliefs, and requirements like humans. These kinds of machines are still not invented and it’s a long-term goal for the researchers to create one. \n",
      "\n",
      "Self-Awareness: Self-awareness AI is the future of artificial intelligence. These machines can outsmart the humans. If these machines are invented then it can bring a revolution in human society. \n",
      "\n",
      "\n",
      "Conclusion\n",
      "Artificial Intelligence will bring a huge revolution in the history of mankind. Human civilization will flourish by amplifying human intelligence with artificial intelligence, as long as we manage to keep the technology beneficial.\n"
     ]
    }
   ],
   "source": [
    "print(TEXT)"
   ]
  },
  {
   "cell_type": "code",
   "execution_count": 226,
   "metadata": {},
   "outputs": [],
   "source": [
    "NUMBER=5 \n",
    "SUBJECT=\"artificial intelligence\"\n",
    "TONE=\"simple\""
   ]
  },
  {
   "cell_type": "code",
   "execution_count": 229,
   "metadata": {},
   "outputs": [
    {
     "name": "stdout",
     "output_type": "stream",
     "text": [
      "\n",
      "\n",
      "\u001b[1m> Entering new SequentialChain chain...\u001b[0m\n",
      "\n",
      "\n",
      "\u001b[1m> Entering new LLMChain chain...\u001b[0m\n",
      "Prompt after formatting:\n",
      "\u001b[32;1m\u001b[1;3m\n",
      "Text:Artificial Intelligence is the intelligence possessed by the machines under which they can perform various functions with human help. With the help of A.I, machines will be able to learn, solve problems, plan things, think, etc. Artificial Intelligence, for example, is the simulation of human intelligence by machines. In the field of technology, Artificial Intelligence is evolving rapidly day by day and it is believed that in the near future, artificial intelligence is going to change human life very drastically and will most probably end all the crises of the world by sorting out the major problems. \n",
      "\n",
      "\n",
      "Our life in this modern age depends largely on computers. It is almost impossible to think about life without computers. We need computers in everything that we use in our daily lives. So it becomes very important to make computers intelligent so that our lives become easy. Artificial Intelligence is the theory and development of computers, which imitates the human intelligence and senses, such as visual perception, speech recognition, decision-making, and translation between languages. Artificial Intelligence has brought a revolution in the world of technology. \n",
      "\n",
      "\n",
      "Artificial Intelligence Applications\n",
      "AI is widely used in the field of healthcare. Companies are attempting to develop technologies that will allow for rapid diagnosis. Artificial Intelligence would be able to operate on patients without the need for human oversight. Surgical procedures based on technology are already being performed.\n",
      "\n",
      "\n",
      "Artificial Intelligence would save a lot of our time. The use of robots would decrease human labour. For example, in industries robots are used which have saved a lot of human effort and time. \n",
      "\n",
      "\n",
      "In the field of education, AI has the potential to be very effective. It can bring innovative ways of teaching students with the help of which students will be able to learn the concepts better. \n",
      "\n",
      "\n",
      "Artificial intelligence is the future of innovative technology as we can use it in many fields. For example, it can be used in the Military sector, Industrial sector, Automobiles, etc. In the coming years, we will be able to see more applications of AI as this technology is evolving day by day. \n",
      "\n",
      "Marketing: Artificial Intelligence provides a deep knowledge of consumers and potential clients to the marketers by enabling them to deliver information at the right time. Through AI solutions, the marketers can refine their campaigns and strategies.\n",
      "\n",
      "Agriculture: AI technology can be used to detect diseases in plants, pests, and poor plant nutrition. With the help of AI, farmers can analyze the weather conditions, temperature, water usage, and condition of the soil.\n",
      "\n",
      "Banking: Fraudulent activities can be detected through AI solutions. AI bots, digital payment advisers can create a high quality of service.\n",
      "\n",
      "Health Care: Artificial Intelligence can surpass human cognition in the analysis, diagnosis, and complication of complicated medical data.\n",
      "\n",
      "\n",
      "History of Artificial Intelligence\n",
      "Artificial Intelligence may seem to be a new technology but if we do a bit of research, we will find that it has roots deep in the past. In Greek Mythology, it is said that the concepts of AI were used. \n",
      "\n",
      "\n",
      "The model of Artificial neurons was first brought forward in 1943 by Warren McCulloch and Walter Pits. After seven years, in 1950, a research paper related to AI was published by Alan Turing which was titled 'Computer Machinery and Intelligence. The term Artificial Intelligence was first coined in 1956 by John McCarthy, who is known as the father of Artificial Intelligence. \n",
      "\n",
      "\n",
      "To conclude, we can say that Artificial Intelligence will be the future of the world. As per the experts, we won't be able to separate ourselves from this technology as it would become an integral part of our lives shortly. AI would change the way we live in this world. This technology would prove to be revolutionary because it will change our lives for good. \n",
      "\n",
      "\n",
      "Branches of Artificial Intelligence:\n",
      "Knowledge Engineering\n",
      "\n",
      "Robotics\n",
      "\n",
      "Machines Learning\n",
      "\n",
      "Natural Language Processing\n",
      "\n",
      "\n",
      "Types of Artificial Intelligence\n",
      "Artificial Intelligence is categorized in two types based on capabilities and functionalities. \n",
      "\n",
      "Artificial Intelligence Type-1\n",
      "\n",
      "Artificial Intelligence Type-2\n",
      "\n",
      "\n",
      "Artificial Intelligence Type-1\n",
      "Narrow AI (weak AI): This is designed to perform a specific task with intelligence. It is termed as weak AI because it cannot perform beyond its limitations. It is trained to do a specific task. Some examples of Narrow AI are facial recognition (Siri in Apple phones), speech, and image recognition. IBM’s Watson supercomputer, self-driving cars, playing chess, and solving equations are also some of the examples of weak AI.\n",
      "\n",
      "General AI (AGI or strong AI): This system can perform nearly every cognitive task as efficiently as humans can do. The main characteristic of general AI is to make a system that can think like a human on its own. This is a long-term goal of many researchers to create such machines.\n",
      "\n",
      "Super AI: Super AI is a type of intelligence of systems in which machines can surpass human intelligence and can perform any cognitive task better than humans. The main features of strong AI would be the ability to think, reason, solve puzzles, make judgments, plan and communicate on its own. The creation of strong AI might be the biggest revolution in human history.\n",
      "\n",
      "\n",
      "Artificial Intelligence Type-2\n",
      "Reactive Machines: These machines are the basic types of AI. Such AI systems focus only on current situations and react as per the best possible action. They do not store memories for future actions. IBM’s deep blue system and Google’s Alpha go are the examples of reactive machines.\n",
      "\n",
      "Limited Memory: These machines can store data or past memories for a short period of time. Examples are self-driving cars. They can store information to navigate the road, speed, and distance of nearby cars.\n",
      "\n",
      "Theory of Mind: These systems understand emotions, beliefs, and requirements like humans. These kinds of machines are still not invented and it’s a long-term goal for the researchers to create one. \n",
      "\n",
      "Self-Awareness: Self-awareness AI is the future of artificial intelligence. These machines can outsmart the humans. If these machines are invented then it can bring a revolution in human society. \n",
      "\n",
      "\n",
      "Conclusion\n",
      "Artificial Intelligence will bring a huge revolution in the history of mankind. Human civilization will flourish by amplifying human intelligence with artificial intelligence, as long as we manage to keep the technology beneficial.\n",
      "You are an expert MCQ maker. Given the above text, it is your job to create a quiz  of 5 multiple choice questions for artificial intelligence students in simple tone. \n",
      "Make sure the questions are not repeated and check all the questions to be conforming the text as well.\n",
      "Make sure to format your response like  RESPONSE_JSON below  and use it as a guide. Ensure to make 5 MCQs\n",
      "### RESPONSE_JSON\n",
      "{\"1\": {\"mcq\": \"multiple choice question\", \"options\": {\"a\": \"choice here\", \"b\": \"choice here\", \"c\": \"choice here\", \"d\": \"choice here\"}, \"correct\": \"correct answer\"}, \"2\": {\"mcq\": \"multiple choice question\", \"options\": {\"a\": \"choice here\", \"b\": \"choice here\", \"c\": \"choice here\", \"d\": \"choice here\"}, \"correct\": \"correct answer\"}, \"3\": {\"mcq\": \"multiple choice question\", \"options\": {\"a\": \"choice here\", \"b\": \"choice here\", \"c\": \"choice here\", \"d\": \"choice here\"}, \"correct\": \"correct answer\"}}\n",
      "\n",
      "\u001b[0m\n",
      "\n",
      "\u001b[1m> Finished chain.\u001b[0m\n",
      "\n",
      "\n",
      "\u001b[1m> Entering new LLMChain chain...\u001b[0m\n",
      "Prompt after formatting:\n",
      "\u001b[32;1m\u001b[1;3m\n",
      "You are an expert english grammarian and writer and an academic expert. Given a Multiple Choice Quiz for artificial intelligence students.You need to evaluate the complexity of the question and give a complete analysis of the quiz. Only use at max 50 words for complexity analysis. \n",
      "If the quiz is not at par with the cognitive and analytical abilities of the students,Update the quiz questions which need to be changed and change the tone such that it perfectly fits the student abilities\n",
      "Quiz_MCQs:\n",
      "\n",
      "{\n",
      "  \"1\": {\n",
      "    \"mcq\": \"What is the main goal of General AI (AGI) systems?\",\n",
      "    \"options\": {\n",
      "      \"a\": \"Perform a specific task efficiently\",\n",
      "      \"b\": \"Think like a human on its own\",\n",
      "      \"c\": \"React as per the best possible action\",\n",
      "      \"d\": \"Store data for future actions\"\n",
      "    },\n",
      "    \"correct\": \"b\"\n",
      "  },\n",
      "  \"2\": {\n",
      "    \"mcq\": \"Which type of AI system can surpass human intelligence and perform any cognitive task better than humans?\",\n",
      "    \"options\": {\n",
      "      \"a\": \"Reactive Machines\",\n",
      "      \"b\": \"Limited Memory\",\n",
      "      \"c\": \"General AI (AGI)\",\n",
      "      \"d\": \"Narrow AI\"\n",
      "    },\n",
      "    \"correct\": \"c\"\n",
      "  },\n",
      "  \"3\": {\n",
      "    \"mcq\": \"What is the characteristic of Narrow AI (weak AI) systems?\",\n",
      "    \"options\": {\n",
      "      \"a\": \"Can think like a human on its own\",\n",
      "      \"b\": \"Perform a specific task with intelligence\",\n",
      "      \"c\": \"React as per the best possible action\",\n",
      "      \"d\": \"Store data for future actions\"\n",
      "    },\n",
      "    \"correct\": \"b\"\n",
      "  },\n",
      "  \"4\": {\n",
      "    \"mcq\": \"Which type of AI system focuses only on current situations and does not store memories for future actions?\",\n",
      "    \"options\": {\n",
      "      \"a\": \"Limited Memory\",\n",
      "      \"b\": \"Reactive Machines\",\n",
      "      \"c\": \"Theory of Mind\",\n",
      "      \"d\": \"Self-Awareness\"\n",
      "    },\n",
      "    \"correct\": \"b\"\n",
      "  },\n",
      "  \"5\": {\n",
      "    \"mcq\": \"What is the main feature of Super AI systems?\",\n",
      "    \"options\": {\n",
      "      \"a\": \"Ability to think like a human on its own\",\n",
      "      \"b\": \"Can store data for future actions\",\n",
      "      \"c\": \"Can surpass human intelligence\",\n",
      "      \"d\": \"Focuses only on current situations\"\n",
      "    },\n",
      "    \"correct\": \"c\"\n",
      "  }\n",
      "}\n",
      "\n",
      "Check from the point of view of an expert English Writer of the above quiz:\n",
      "\u001b[0m\n",
      "\n",
      "\u001b[1m> Finished chain.\u001b[0m\n",
      "\n",
      "\u001b[1m> Finished chain.\u001b[0m\n"
     ]
    }
   ],
   "source": [
    "#https://python.langchain.com/docs/modules/model_io/llms/token_usage_tracking\n",
    "\n",
    "#How to setup Token Usage Tracking in LangChain\n",
    "with get_openai_callback() as cb:\n",
    "    response=generate_evaluate_chain(\n",
    "        {\n",
    "            \"text\": TEXT,\n",
    "            \"number\": NUMBER,\n",
    "            \"subject\":SUBJECT,\n",
    "            \"tone\": TONE,\n",
    "            \"response_json\": json.dumps(RESPONSE_JSON)\n",
    "        }\n",
    "        )"
   ]
  },
  {
   "cell_type": "code",
   "execution_count": 231,
   "metadata": {},
   "outputs": [
    {
     "name": "stdout",
     "output_type": "stream",
     "text": [
      "Total Tokens:2532\n",
      "Prompt Tokens:2052\n",
      "Completion Tokens:480\n",
      "Total Cost:0.004038000000000001\n"
     ]
    }
   ],
   "source": [
    "print(f\"Total Tokens:{cb.total_tokens}\")\n",
    "print(f\"Prompt Tokens:{cb.prompt_tokens}\")\n",
    "print(f\"Completion Tokens:{cb.completion_tokens}\")\n",
    "print(f\"Total Cost:{cb.total_cost}\")"
   ]
  },
  {
   "cell_type": "code",
   "execution_count": 236,
   "metadata": {},
   "outputs": [
    {
     "name": "stdout",
     "output_type": "stream",
     "text": [
      "\n",
      "{\n",
      "  \"1\": {\n",
      "    \"mcq\": \"What is the main goal of General AI (AGI) systems?\",\n",
      "    \"options\": {\n",
      "      \"a\": \"Perform a specific task efficiently\",\n",
      "      \"b\": \"Think like a human on its own\",\n",
      "      \"c\": \"React as per the best possible action\",\n",
      "      \"d\": \"Store data for future actions\"\n",
      "    },\n",
      "    \"correct\": \"b\"\n",
      "  },\n",
      "  \"2\": {\n",
      "    \"mcq\": \"Which type of AI system can surpass human intelligence and perform any cognitive task better than humans?\",\n",
      "    \"options\": {\n",
      "      \"a\": \"Reactive Machines\",\n",
      "      \"b\": \"Limited Memory\",\n",
      "      \"c\": \"General AI (AGI)\",\n",
      "      \"d\": \"Narrow AI\"\n",
      "    },\n",
      "    \"correct\": \"c\"\n",
      "  },\n",
      "  \"3\": {\n",
      "    \"mcq\": \"What is the characteristic of Narrow AI (weak AI) systems?\",\n",
      "    \"options\": {\n",
      "      \"a\": \"Can think like a human on its own\",\n",
      "      \"b\": \"Perform a specific task with intelligence\",\n",
      "      \"c\": \"React as per the best possible action\",\n",
      "      \"d\": \"Store data for future actions\"\n",
      "    },\n",
      "    \"correct\": \"b\"\n",
      "  },\n",
      "  \"4\": {\n",
      "    \"mcq\": \"Which type of AI system focuses only on current situations and does not store memories for future actions?\",\n",
      "    \"options\": {\n",
      "      \"a\": \"Limited Memory\",\n",
      "      \"b\": \"Reactive Machines\",\n",
      "      \"c\": \"Theory of Mind\",\n",
      "      \"d\": \"Self-Awareness\"\n",
      "    },\n",
      "    \"correct\": \"b\"\n",
      "  },\n",
      "  \"5\": {\n",
      "    \"mcq\": \"What is the main feature of Super AI systems?\",\n",
      "    \"options\": {\n",
      "      \"a\": \"Ability to think like a human on its own\",\n",
      "      \"b\": \"Can store data for future actions\",\n",
      "      \"c\": \"Can surpass human intelligence\",\n",
      "      \"d\": \"Focuses only on current situations\"\n",
      "    },\n",
      "    \"correct\": \"c\"\n",
      "  }\n",
      "}\n"
     ]
    }
   ],
   "source": [
    "print(response.get(\"quiz\"))"
   ]
  },
  {
   "cell_type": "code",
   "execution_count": 270,
   "metadata": {},
   "outputs": [],
   "source": [
    "quiz=response.get(\"quiz\")\n",
    "quiz=json.loads(quiz)"
   ]
  },
  {
   "cell_type": "code",
   "execution_count": 271,
   "metadata": {},
   "outputs": [
    {
     "data": {
      "text/plain": [
       "{'1': {'mcq': 'What is the main goal of General AI (AGI) systems?',\n",
       "  'options': {'a': 'Perform a specific task efficiently',\n",
       "   'b': 'Think like a human on its own',\n",
       "   'c': 'React as per the best possible action',\n",
       "   'd': 'Store data for future actions'},\n",
       "  'correct': 'b'},\n",
       " '2': {'mcq': 'Which type of AI system can surpass human intelligence and perform any cognitive task better than humans?',\n",
       "  'options': {'a': 'Reactive Machines',\n",
       "   'b': 'Limited Memory',\n",
       "   'c': 'General AI (AGI)',\n",
       "   'd': 'Narrow AI'},\n",
       "  'correct': 'c'},\n",
       " '3': {'mcq': 'What is the characteristic of Narrow AI (weak AI) systems?',\n",
       "  'options': {'a': 'Can think like a human on its own',\n",
       "   'b': 'Perform a specific task with intelligence',\n",
       "   'c': 'React as per the best possible action',\n",
       "   'd': 'Store data for future actions'},\n",
       "  'correct': 'b'},\n",
       " '4': {'mcq': 'Which type of AI system focuses only on current situations and does not store memories for future actions?',\n",
       "  'options': {'a': 'Limited Memory',\n",
       "   'b': 'Reactive Machines',\n",
       "   'c': 'Theory of Mind',\n",
       "   'd': 'Self-Awareness'},\n",
       "  'correct': 'b'},\n",
       " '5': {'mcq': 'What is the main feature of Super AI systems?',\n",
       "  'options': {'a': 'Ability to think like a human on its own',\n",
       "   'b': 'Can store data for future actions',\n",
       "   'c': 'Can surpass human intelligence',\n",
       "   'd': 'Focuses only on current situations'},\n",
       "  'correct': 'c'}}"
      ]
     },
     "execution_count": 271,
     "metadata": {},
     "output_type": "execute_result"
    }
   ],
   "source": [
    "quiz"
   ]
  },
  {
   "cell_type": "code",
   "execution_count": 272,
   "metadata": {},
   "outputs": [],
   "source": [
    "quiz_table_data = []\n",
    "for key, value in quiz.items():\n",
    "    mcq = value[\"mcq\"]\n",
    "    options = \" | \".join([f\"{option}: {option_value}\" for option, option_value in value[\"options\"].items()])\n",
    "    correct = value[\"correct\"]\n",
    "    quiz_table_data.append({\"Question no.\":key,\"MCQ\": mcq, \"Choices\": options, \"Correct\": correct})"
   ]
  },
  {
   "cell_type": "code",
   "execution_count": 273,
   "metadata": {},
   "outputs": [
    {
     "data": {
      "text/plain": [
       "[{'Question no.': '1',\n",
       "  'MCQ': 'What is the main goal of General AI (AGI) systems?',\n",
       "  'Choices': 'a: Perform a specific task efficiently | b: Think like a human on its own | c: React as per the best possible action | d: Store data for future actions',\n",
       "  'Correct': 'b'},\n",
       " {'Question no.': '2',\n",
       "  'MCQ': 'Which type of AI system can surpass human intelligence and perform any cognitive task better than humans?',\n",
       "  'Choices': 'a: Reactive Machines | b: Limited Memory | c: General AI (AGI) | d: Narrow AI',\n",
       "  'Correct': 'c'},\n",
       " {'Question no.': '3',\n",
       "  'MCQ': 'What is the characteristic of Narrow AI (weak AI) systems?',\n",
       "  'Choices': 'a: Can think like a human on its own | b: Perform a specific task with intelligence | c: React as per the best possible action | d: Store data for future actions',\n",
       "  'Correct': 'b'},\n",
       " {'Question no.': '4',\n",
       "  'MCQ': 'Which type of AI system focuses only on current situations and does not store memories for future actions?',\n",
       "  'Choices': 'a: Limited Memory | b: Reactive Machines | c: Theory of Mind | d: Self-Awareness',\n",
       "  'Correct': 'b'},\n",
       " {'Question no.': '5',\n",
       "  'MCQ': 'What is the main feature of Super AI systems?',\n",
       "  'Choices': 'a: Ability to think like a human on its own | b: Can store data for future actions | c: Can surpass human intelligence | d: Focuses only on current situations',\n",
       "  'Correct': 'c'}]"
      ]
     },
     "execution_count": 273,
     "metadata": {},
     "output_type": "execute_result"
    }
   ],
   "source": [
    "quiz_table_data"
   ]
  },
  {
   "cell_type": "code",
   "execution_count": 274,
   "metadata": {},
   "outputs": [],
   "source": [
    "quiz=pd.DataFrame(quiz_table_data)"
   ]
  },
  {
   "cell_type": "code",
   "execution_count": 275,
   "metadata": {},
   "outputs": [
    {
     "data": {
      "text/html": [
       "<div>\n",
       "<style scoped>\n",
       "    .dataframe tbody tr th:only-of-type {\n",
       "        vertical-align: middle;\n",
       "    }\n",
       "\n",
       "    .dataframe tbody tr th {\n",
       "        vertical-align: top;\n",
       "    }\n",
       "\n",
       "    .dataframe thead th {\n",
       "        text-align: right;\n",
       "    }\n",
       "</style>\n",
       "<table border=\"1\" class=\"dataframe\">\n",
       "  <thead>\n",
       "    <tr style=\"text-align: right;\">\n",
       "      <th></th>\n",
       "      <th>Question no.</th>\n",
       "      <th>MCQ</th>\n",
       "      <th>Choices</th>\n",
       "      <th>Correct</th>\n",
       "    </tr>\n",
       "  </thead>\n",
       "  <tbody>\n",
       "    <tr>\n",
       "      <th>0</th>\n",
       "      <td>1</td>\n",
       "      <td>What is the main goal of General AI (AGI) syst...</td>\n",
       "      <td>a: Perform a specific task efficiently | b: Th...</td>\n",
       "      <td>b</td>\n",
       "    </tr>\n",
       "    <tr>\n",
       "      <th>1</th>\n",
       "      <td>2</td>\n",
       "      <td>Which type of AI system can surpass human inte...</td>\n",
       "      <td>a: Reactive Machines | b: Limited Memory | c: ...</td>\n",
       "      <td>c</td>\n",
       "    </tr>\n",
       "    <tr>\n",
       "      <th>2</th>\n",
       "      <td>3</td>\n",
       "      <td>What is the characteristic of Narrow AI (weak ...</td>\n",
       "      <td>a: Can think like a human on its own | b: Perf...</td>\n",
       "      <td>b</td>\n",
       "    </tr>\n",
       "    <tr>\n",
       "      <th>3</th>\n",
       "      <td>4</td>\n",
       "      <td>Which type of AI system focuses only on curren...</td>\n",
       "      <td>a: Limited Memory | b: Reactive Machines | c: ...</td>\n",
       "      <td>b</td>\n",
       "    </tr>\n",
       "    <tr>\n",
       "      <th>4</th>\n",
       "      <td>5</td>\n",
       "      <td>What is the main feature of Super AI systems?</td>\n",
       "      <td>a: Ability to think like a human on its own | ...</td>\n",
       "      <td>c</td>\n",
       "    </tr>\n",
       "  </tbody>\n",
       "</table>\n",
       "</div>"
      ],
      "text/plain": [
       "  Question no.                                                MCQ  \\\n",
       "0            1  What is the main goal of General AI (AGI) syst...   \n",
       "1            2  Which type of AI system can surpass human inte...   \n",
       "2            3  What is the characteristic of Narrow AI (weak ...   \n",
       "3            4  Which type of AI system focuses only on curren...   \n",
       "4            5      What is the main feature of Super AI systems?   \n",
       "\n",
       "                                             Choices Correct  \n",
       "0  a: Perform a specific task efficiently | b: Th...       b  \n",
       "1  a: Reactive Machines | b: Limited Memory | c: ...       c  \n",
       "2  a: Can think like a human on its own | b: Perf...       b  \n",
       "3  a: Limited Memory | b: Reactive Machines | c: ...       b  \n",
       "4  a: Ability to think like a human on its own | ...       c  "
      ]
     },
     "execution_count": 275,
     "metadata": {},
     "output_type": "execute_result"
    }
   ],
   "source": [
    "quiz"
   ]
  },
  {
   "cell_type": "code",
   "execution_count": 277,
   "metadata": {},
   "outputs": [],
   "source": [
    "quiz.to_csv(\"AI_quiz.csv\",index=False)"
   ]
  }
 ],
 "metadata": {
  "kernelspec": {
   "display_name": "Python 3",
   "language": "python",
   "name": "python3"
  },
  "language_info": {
   "codemirror_mode": {
    "name": "ipython",
    "version": 3
   },
   "file_extension": ".py",
   "mimetype": "text/x-python",
   "name": "python",
   "nbconvert_exporter": "python",
   "pygments_lexer": "ipython3",
   "version": "3.10.8"
  }
 },
 "nbformat": 4,
 "nbformat_minor": 2
}
